{
 "cells": [
  {
   "cell_type": "markdown",
   "metadata": {},
   "source": [
    "<center><h1>Deep Learning</h1></center>\n",
    "\n",
    "If you're even remotely interested in machine learning, then you've probably run into the term \"Deep Learning\".  In this tutorial, we're going to discuss what Deep Learning is (and isn't), and we're going to build our first Deep Neural Network, which we'll train to recognize images of cats.  During this tutorial, we'll use Keras to do the heavy lifting and allow us to focus on the architecture of our Neural Network without getting bogged down with low-level Tensorflow code.  "
   ]
  },
  {
   "cell_type": "markdown",
   "metadata": {},
   "source": [
    "## Importing our tools\n",
    "\n",
    "In order to build a this neural network, we're going to leverage a few different tools to make our lives easier. Here's a brief explanation of the tools we'll be using, and what we'll be using them for:\n",
    "\n",
    "\n",
    "\n",
    "### Numpy\n",
    "You've likely run across this is earlier assignments.  Numpy is great for linear algebra, which is the backbone of neural networks.  By **_vectorizing_** things such as our training data, weights, and biases, we avoid using extra for-loops.  This may not sound like a big deal, but this will give us increase our runtime performance by 200-300X!  The best part is--you don't have to do anything specific to vectorize your inputs, aside from use numpy arrays to store everything. Simple!\n",
    "\n",
    "### Matplotlib\n",
    "We'll only use matplotlib in the beginning, to inspect some of our images and see what we're looking at.  Nothing too exciting here.\n",
    "\n",
    "### Keras \n",
    "Keras is the workhorse of this particular project--you can think of it as a front-end to Tensorflow that abstracts away all the low-level complexity, allowing us to focus only on the things that matter.  Keras is BIG, so we'll only import the things we need from inside of Keras, in order to save on memory and time.  \n",
    "\n",
    "Run the following block of code to import everything we'll need for our Deep Neural Network."
   ]
  },
  {
   "cell_type": "code",
   "execution_count": 33,
   "metadata": {
    "collapsed": true
   },
   "outputs": [],
   "source": [
    "from keras.models import Sequential\n",
    "from keras.layers import Dense\n",
    "from keras.datasets import mnist\n",
    "import matplotlib.pyplot as plt\n",
    "import numpy as np\n",
    "%matplotlib inline"
   ]
  },
  {
   "cell_type": "markdown",
   "metadata": {},
   "source": [
    "### Keras module explanations\n",
    "\n",
    "Let's take a look at the things we've imported directly from Keras, to get a better idea of what they are and how we'll use them.  \n",
    "\n",
    "`from keras.models import Sequential`\n",
    "\n",
    "For most anything you'll be doing in Keras, you'll likely be using a Sequential model.  This is the actual model object that we'll create in our code, and then manipulate by adding layers.  \n",
    "\n",
    "`from keras.layers import Dense`\n",
    "\n",
    "There are many different types of layers we can use inside our neural network.  The most simple one we can use a **_Dense_** layer.  You may have also heard this referred to as a **_Fully-Connected_** layer, meaning that each neuron in the layer receives the output from every single neuron in the previous layer, and passes its output to every neuron in the next layer.  The layers submodule also contains some other nifty tools, such as Dropout and BatchNormalization.  Although these aren't strictly necessary for building a Deep Neural Netowrk, they're very helpful for dealing with common problems such as overfitting! In this tutorial, we'll use them just to add some variety to our programming task--don't worry if you don't understand these concepts yet, as we'll cover them soon!"
   ]
  },
  {
   "cell_type": "code",
   "execution_count": 35,
   "metadata": {},
   "outputs": [],
   "source": [
    "(X_train, y_train), (X_test, y_test) = mnist.load_data()"
   ]
  },
  {
   "cell_type": "code",
   "execution_count": 36,
   "metadata": {},
   "outputs": [
    {
     "data": {
      "text/plain": [
       "<matplotlib.image.AxesImage at 0x13c07e8d0>"
      ]
     },
     "execution_count": 36,
     "metadata": {},
     "output_type": "execute_result"
    },
    {
     "data": {
      "image/png": "[encoded data removed]",
      "text/plain": [
       "<matplotlib.figure.Figure at 0x12385f4a8>"
      ]
     },
     "metadata": {},
     "output_type": "display_data"
    }
   ],
   "source": [
    "plt.imshow(X_train[1])"
   ]
  },
  {
   "cell_type": "code",
   "execution_count": null,
   "metadata": {},
   "outputs": [],
   "source": []
  },
  {
   "cell_type": "code",
   "execution_count": null,
   "metadata": {
    "collapsed": true
   },
   "outputs": [],
   "source": []
  }
 ],
 "metadata": {
  "anaconda-cloud": {},
  "kernelspec": {
   "display_name": "Python 3",
   "language": "python",
   "name": "python3"
  },
  "language_info": {
   "codemirror_mode": {
    "name": "ipython",
    "version": 3
   },
   "file_extension": ".py",
   "mimetype": "text/x-python",
   "name": "python",
   "nbconvert_exporter": "python",
   "pygments_lexer": "ipython3",
   "version": "3.6.4"
  }
 },
 "nbformat": 4,
 "nbformat_minor": 2
}
