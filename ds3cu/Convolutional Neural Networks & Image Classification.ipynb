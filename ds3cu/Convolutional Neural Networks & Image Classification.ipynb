{
 "cells": [
  {
   "cell_type": "markdown",
   "metadata": {},
   "source": [
    "<center><h1>Image Classification with Convolutional Neural Networks</h1></center>\n",
    "\n",
    "### Vocabulary\n",
    "\n",
    "***Filter:*** \n",
    "\n",
    "***Stride***\n",
    "\n",
    "***Padding***\n",
    "\n",
    "    ***SAME***\n",
    "    \n",
    "    ***VALID***"
   ]
  },
  {
   "cell_type": "code",
   "execution_count": null,
   "metadata": {
    "collapsed": true
   },
   "outputs": [],
   "source": []
  }
 ],
 "metadata": {
  "anaconda-cloud": {},
  "kernelspec": {
   "display_name": "Python 3",
   "language": "python",
   "name": "python3"
  },
  "language_info": {
   "codemirror_mode": {
    "name": "ipython",
    "version": 3
   },
   "file_extension": ".py",
   "mimetype": "text/x-python",
   "name": "python",
   "nbconvert_exporter": "python",
   "pygments_lexer": "ipython3",
   "version": "3.6.4"
  }
 },
 "nbformat": 4,
 "nbformat_minor": 2
}
