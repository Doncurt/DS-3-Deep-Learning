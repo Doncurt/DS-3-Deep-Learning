{
 "cells": [
  {
   "cell_type": "markdown",
   "metadata": {
    "extensions": {
     "jupyter_dashboards": {
      "version": 1,
      "views": {
       "grid_default": {
        "hidden": true
       },
       "report_default": {}
      }
     }
    }
   },
   "source": [
    "# Chicago crimes dataset: Exploratory Data Analysis"
   ]
  },
  {
   "cell_type": "code",
   "execution_count": 46,
   "metadata": {},
   "outputs": [
    {
     "name": "stdout",
     "output_type": "stream",
     "text": [
      "\u001b[31mChicago_Crimes_2001_to_2004.csv\u001b[m\u001b[m* \u001b[31mChicago_Crimes_2008_to_2011.csv\u001b[m\u001b[m*\r\n",
      "\u001b[31mChicago_Crimes_2005_to_2007.csv\u001b[m\u001b[m* \u001b[31mChicago_Crimes_2012_to_2017.csv\u001b[m\u001b[m*\r\n"
     ]
    }
   ],
   "source": [
    "import pandas as pd\n",
    "import seaborn as sns\n",
    "import matplotlib as plt\n",
    "import numpy as np\n",
    "import glob\n",
    "#used to display all of the columns\n",
    "pd.set_option('display.max_columns',100)\n",
    "\n",
    "%matplotlib inline\n",
    "%ls\n"
   ]
  },
  {
   "cell_type": "markdown",
   "metadata": {},
   "source": [
    "## 1. Data loading and cleaning"
   ]
  },
  {
   "cell_type": "markdown",
   "metadata": {},
   "source": [
    "### 1a. Data loading"
   ]
  },
  {
   "cell_type": "code",
   "execution_count": 19,
   "metadata": {},
   "outputs": [
    {
     "name": "stdout",
     "output_type": "stream",
     "text": [
      "Chicago_Crimes_2008_to_2011.csv\n",
      "Chicago_Crimes_2001_to_2004.csv\n",
      "Chicago_Crimes_2012_to_2017.csv\n",
      "Chicago_Crimes_2005_to_2007.csv\n"
     ]
    }
   ],
   "source": [
    "# initial load of dataset\n",
    "all_csv = glob.glob('*')\n",
    "for csv in all_csv:\n",
    "    print(csv)"
   ]
  },
  {
   "cell_type": "code",
   "execution_count": 48,
   "metadata": {},
   "outputs": [
    {
     "name": "stderr",
     "output_type": "stream",
     "text": [
      "b'Skipping line 1149094: expected 23 fields, saw 41\\n'\n",
      "b'Skipping line 1513591: expected 23 fields, saw 24\\n'\n",
      "/Users/donovanadams/anaconda3/lib/python3.6/site-packages/IPython/core/interactiveshell.py:2802: DtypeWarning: Columns (17,20) have mixed types. Specify dtype option on import or set low_memory=False.\n",
      "  if self.run_code(code, result):\n",
      "b'Skipping line 533719: expected 23 fields, saw 24\\n'\n"
     ]
    }
   ],
   "source": [
    "#loading all files into one csv\n",
    "def readFilesFolder():\n",
    "    #reads in the list of file string locations and creates new dfs out of them,it then appends them\n",
    "    data_frames_list=list()\n",
    "    for csv in all_csv:\n",
    "        new_df=pd.read_csv(csv,error_bad_lines=False)\n",
    "        data_frames_list.append(new_df)\n",
    "        \n",
    "    df=pd.concat(data_frames_list)\n",
    "    return df\n",
    "starting_df = readFilesFolder()\n"
   ]
  },
  {
   "cell_type": "markdown",
   "metadata": {},
   "source": [
    "### 1b. Size and demonsionality"
   ]
  },
  {
   "cell_type": "code",
   "execution_count": 55,
   "metadata": {},
   "outputs": [
    {
     "name": "stdout",
     "output_type": "stream",
     "text": [
      "The total number of rows is 7941282, and the total number of columns is 23, for a total number of datapoints being 182649486\n"
     ]
    }
   ],
   "source": [
    "#total number of rows\n",
    "print('The total number of rows is {}, and the total number of columns is {}, for a total number of datapoints being {}'.format(len(starting_df),len(starting_df.columns),len(starting_df)*len(starting_df.columns)))"
   ]
  },
  {
   "cell_type": "markdown",
   "metadata": {},
   "source": [
    "### 1c. Checking for NaN values"
   ]
  },
  {
   "cell_type": "code",
   "execution_count": null,
   "metadata": {
    "collapsed": true
   },
   "outputs": [],
   "source": []
  }
 ],
 "metadata": {
  "extensions": {
   "jupyter_dashboards": {
    "activeView": "grid_default",
    "version": 1,
    "views": {
     "grid_default": {
      "cellMargin": 10,
      "defaultCellHeight": 20,
      "maxColumns": 12,
      "name": "grid",
      "type": "grid"
     },
     "report_default": {
      "name": "report",
      "type": "report"
     }
    }
   }
  },
  "kernelspec": {
   "display_name": "Python 3",
   "language": "python",
   "name": "python3"
  },
  "language_info": {
   "codemirror_mode": {
    "name": "ipython",
    "version": 3
   },
   "file_extension": ".py",
   "mimetype": "text/x-python",
   "name": "python",
   "nbconvert_exporter": "python",
   "pygments_lexer": "ipython3",
   "version": "3.6.3"
  }
 },
 "nbformat": 4,
 "nbformat_minor": 2
}
