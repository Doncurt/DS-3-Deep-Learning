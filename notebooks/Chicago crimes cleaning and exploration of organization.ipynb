{
 "cells": [
  {
   "cell_type": "markdown",
   "metadata": {
    "extensions": {
     "jupyter_dashboards": {
      "version": 1,
      "views": {
       "grid_default": {
        "hidden": true
       },
       "report_default": {}
      }
     }
    }
   },
   "source": [
    "# Chicago crimes dataset: Exploratory Data Analysis"
   ]
  },
  {
   "cell_type": "code",
   "execution_count": 1,
   "metadata": {},
   "outputs": [
    {
     "name": "stdout",
     "output_type": "stream",
     "text": [
      "/Users/donovanadams/Desktop/GitHub/DS-3-Deep-Learning/notebooks/crimes\n"
     ]
    }
   ],
   "source": [
    "import pandas as pd\n",
    "import seaborn as sns\n",
    "import matplotlib as plt\n",
    "import numpy as np\n",
    "import glob\n",
    "from datetime import datetime\n",
    "#used to display all of the columns\n",
    "pd.set_option('display.max_columns',100)\n",
    "\n",
    "%matplotlib inline\n",
    "% cd crimes"
   ]
  },
  {
   "cell_type": "markdown",
   "metadata": {},
   "source": [
    "## 1. Data loading and cleaning"
   ]
  },
  {
   "cell_type": "markdown",
   "metadata": {},
   "source": [
    "### 1a. Data loading"
   ]
  },
  {
   "cell_type": "code",
   "execution_count": 2,
   "metadata": {},
   "outputs": [
    {
     "name": "stdout",
     "output_type": "stream",
     "text": [
      "Chicago_Crimes_2008_to_2011.csv\n",
      "Chicago_Crimes_2001_to_2004.csv\n",
      "Chicago_Crimes_2012_to_2017.csv\n",
      "Chicago_Crimes_2005_to_2007.csv\n"
     ]
    }
   ],
   "source": [
    "# initial load of dataset\n",
    "all_csv = glob.glob('*')\n",
    "for csv in all_csv:\n",
    "    print(csv)"
   ]
  },
  {
   "cell_type": "code",
   "execution_count": 3,
   "metadata": {},
   "outputs": [
    {
     "name": "stderr",
     "output_type": "stream",
     "text": [
      "b'Skipping line 1149094: expected 23 fields, saw 41\\n'\n",
      "b'Skipping line 1513591: expected 23 fields, saw 24\\n'\n",
      "/Users/donovanadams/anaconda3/lib/python3.6/site-packages/IPython/core/interactiveshell.py:2903: DtypeWarning: Columns (17,20) have mixed types. Specify dtype option on import or set low_memory=False.\n",
      "  if self.run_code(code, result):\n",
      "b'Skipping line 533719: expected 23 fields, saw 24\\n'\n"
     ]
    }
   ],
   "source": [
    "#loading all files into one csv\n",
    "def readFilesFolder():\n",
    "    #reads in the list of file string locations and creates new dfs out of them,it then appends them\n",
    "    data_frames_list=list()\n",
    "    for csv in all_csv:\n",
    "        new_df=pd.read_csv(csv,error_bad_lines=False)\n",
    "        data_frames_list.append(new_df)\n",
    "        \n",
    "    df=pd.concat(data_frames_list)\n",
    "    return df\n",
    "starting_df = readFilesFolder()\n"
   ]
  },
  {
   "cell_type": "code",
   "execution_count": 4,
   "metadata": {},
   "outputs": [
    {
     "data": {
      "text/html": [
       "<div>\n",
       "<style scoped>\n",
       "    .dataframe tbody tr th:only-of-type {\n",
       "        vertical-align: middle;\n",
       "    }\n",
       "\n",
       "    .dataframe tbody tr th {\n",
       "        vertical-align: top;\n",
       "    }\n",
       "\n",
       "    .dataframe thead th {\n",
       "        text-align: right;\n",
       "    }\n",
       "</style>\n",
       "<table border=\"1\" class=\"dataframe\">\n",
       "  <thead>\n",
       "    <tr style=\"text-align: right;\">\n",
       "      <th></th>\n",
       "      <th>Unnamed: 0</th>\n",
       "      <th>ID</th>\n",
       "      <th>Case Number</th>\n",
       "      <th>Date</th>\n",
       "      <th>Block</th>\n",
       "      <th>IUCR</th>\n",
       "      <th>Primary Type</th>\n",
       "      <th>Description</th>\n",
       "      <th>Location Description</th>\n",
       "      <th>Arrest</th>\n",
       "      <th>Domestic</th>\n",
       "      <th>Beat</th>\n",
       "      <th>District</th>\n",
       "      <th>Ward</th>\n",
       "      <th>Community Area</th>\n",
       "      <th>FBI Code</th>\n",
       "      <th>X Coordinate</th>\n",
       "      <th>Y Coordinate</th>\n",
       "      <th>Year</th>\n",
       "      <th>Updated On</th>\n",
       "      <th>Latitude</th>\n",
       "      <th>Longitude</th>\n",
       "      <th>Location</th>\n",
       "    </tr>\n",
       "  </thead>\n",
       "  <tbody>\n",
       "    <tr>\n",
       "      <th>0</th>\n",
       "      <td>388</td>\n",
       "      <td>4785</td>\n",
       "      <td>HP610824</td>\n",
       "      <td>10/07/2008 12:39:00 PM</td>\n",
       "      <td>000XX E 75TH ST</td>\n",
       "      <td>0110</td>\n",
       "      <td>HOMICIDE</td>\n",
       "      <td>FIRST DEGREE MURDER</td>\n",
       "      <td>ALLEY</td>\n",
       "      <td>True</td>\n",
       "      <td>False</td>\n",
       "      <td>323</td>\n",
       "      <td>3.0</td>\n",
       "      <td>6.0</td>\n",
       "      <td>69.0</td>\n",
       "      <td>01A</td>\n",
       "      <td>1178207.0</td>\n",
       "      <td>1.85531e+06</td>\n",
       "      <td>2008.0</td>\n",
       "      <td>08/17/2015 03:03:40 PM</td>\n",
       "      <td>41.7583</td>\n",
       "      <td>-87.622451</td>\n",
       "      <td>(41.758275857, -87.622451031)</td>\n",
       "    </tr>\n",
       "    <tr>\n",
       "      <th>1</th>\n",
       "      <td>835</td>\n",
       "      <td>4786</td>\n",
       "      <td>HP616595</td>\n",
       "      <td>10/09/2008 03:30:00 AM</td>\n",
       "      <td>048XX W POLK ST</td>\n",
       "      <td>0110</td>\n",
       "      <td>HOMICIDE</td>\n",
       "      <td>FIRST DEGREE MURDER</td>\n",
       "      <td>STREET</td>\n",
       "      <td>True</td>\n",
       "      <td>False</td>\n",
       "      <td>1533</td>\n",
       "      <td>15.0</td>\n",
       "      <td>24.0</td>\n",
       "      <td>25.0</td>\n",
       "      <td>01A</td>\n",
       "      <td>1144200.0</td>\n",
       "      <td>1.89586e+06</td>\n",
       "      <td>2008.0</td>\n",
       "      <td>08/17/2015 03:03:40 PM</td>\n",
       "      <td>41.8703</td>\n",
       "      <td>-87.746069</td>\n",
       "      <td>(41.87025207, -87.746069362)</td>\n",
       "    </tr>\n",
       "    <tr>\n",
       "      <th>2</th>\n",
       "      <td>1334</td>\n",
       "      <td>4787</td>\n",
       "      <td>HP616904</td>\n",
       "      <td>10/09/2008 08:35:00 AM</td>\n",
       "      <td>030XX W MANN DR</td>\n",
       "      <td>0110</td>\n",
       "      <td>HOMICIDE</td>\n",
       "      <td>FIRST DEGREE MURDER</td>\n",
       "      <td>PARK PROPERTY</td>\n",
       "      <td>False</td>\n",
       "      <td>False</td>\n",
       "      <td>831</td>\n",
       "      <td>8.0</td>\n",
       "      <td>18.0</td>\n",
       "      <td>66.0</td>\n",
       "      <td>01A</td>\n",
       "      <td>1157314.0</td>\n",
       "      <td>1.85978e+06</td>\n",
       "      <td>2008.0</td>\n",
       "      <td>08/17/2015 03:03:40 PM</td>\n",
       "      <td>41.771</td>\n",
       "      <td>-87.698901</td>\n",
       "      <td>(41.770990476, -87.698901469)</td>\n",
       "    </tr>\n",
       "    <tr>\n",
       "      <th>3</th>\n",
       "      <td>1907</td>\n",
       "      <td>4788</td>\n",
       "      <td>HP618616</td>\n",
       "      <td>10/10/2008 02:33:00 AM</td>\n",
       "      <td>052XX W CHICAGO AVE</td>\n",
       "      <td>0110</td>\n",
       "      <td>HOMICIDE</td>\n",
       "      <td>FIRST DEGREE MURDER</td>\n",
       "      <td>RESTAURANT</td>\n",
       "      <td>False</td>\n",
       "      <td>False</td>\n",
       "      <td>1524</td>\n",
       "      <td>15.0</td>\n",
       "      <td>37.0</td>\n",
       "      <td>25.0</td>\n",
       "      <td>01A</td>\n",
       "      <td>1141065.0</td>\n",
       "      <td>1.90482e+06</td>\n",
       "      <td>2008.0</td>\n",
       "      <td>08/17/2015 03:03:40 PM</td>\n",
       "      <td>41.8949</td>\n",
       "      <td>-87.757358</td>\n",
       "      <td>(41.894916924, -87.757358147)</td>\n",
       "    </tr>\n",
       "    <tr>\n",
       "      <th>4</th>\n",
       "      <td>2436</td>\n",
       "      <td>4789</td>\n",
       "      <td>HP619020</td>\n",
       "      <td>10/10/2008 12:50:00 PM</td>\n",
       "      <td>026XX S HOMAN AVE</td>\n",
       "      <td>0110</td>\n",
       "      <td>HOMICIDE</td>\n",
       "      <td>FIRST DEGREE MURDER</td>\n",
       "      <td>GARAGE</td>\n",
       "      <td>False</td>\n",
       "      <td>True</td>\n",
       "      <td>1032</td>\n",
       "      <td>10.0</td>\n",
       "      <td>22.0</td>\n",
       "      <td>30.0</td>\n",
       "      <td>01A</td>\n",
       "      <td>1154123.0</td>\n",
       "      <td>1.8863e+06</td>\n",
       "      <td>2008.0</td>\n",
       "      <td>08/17/2015 03:03:40 PM</td>\n",
       "      <td>41.8438</td>\n",
       "      <td>-87.709893</td>\n",
       "      <td>(41.843826272, -87.709893465)</td>\n",
       "    </tr>\n",
       "  </tbody>\n",
       "</table>\n",
       "</div>"
      ],
      "text/plain": [
       "   Unnamed: 0    ID Case Number                    Date                Block  \\\n",
       "0         388  4785    HP610824  10/07/2008 12:39:00 PM      000XX E 75TH ST   \n",
       "1         835  4786    HP616595  10/09/2008 03:30:00 AM      048XX W POLK ST   \n",
       "2        1334  4787    HP616904  10/09/2008 08:35:00 AM      030XX W MANN DR   \n",
       "3        1907  4788    HP618616  10/10/2008 02:33:00 AM  052XX W CHICAGO AVE   \n",
       "4        2436  4789    HP619020  10/10/2008 12:50:00 PM    026XX S HOMAN AVE   \n",
       "\n",
       "   IUCR Primary Type          Description Location Description  Arrest  \\\n",
       "0  0110     HOMICIDE  FIRST DEGREE MURDER                ALLEY    True   \n",
       "1  0110     HOMICIDE  FIRST DEGREE MURDER               STREET    True   \n",
       "2  0110     HOMICIDE  FIRST DEGREE MURDER        PARK PROPERTY   False   \n",
       "3  0110     HOMICIDE  FIRST DEGREE MURDER           RESTAURANT   False   \n",
       "4  0110     HOMICIDE  FIRST DEGREE MURDER               GARAGE   False   \n",
       "\n",
       "   Domestic  Beat  District  Ward  Community Area FBI Code  X Coordinate  \\\n",
       "0     False   323       3.0   6.0            69.0      01A     1178207.0   \n",
       "1     False  1533      15.0  24.0            25.0      01A     1144200.0   \n",
       "2     False   831       8.0  18.0            66.0      01A     1157314.0   \n",
       "3     False  1524      15.0  37.0            25.0      01A     1141065.0   \n",
       "4      True  1032      10.0  22.0            30.0      01A     1154123.0   \n",
       "\n",
       "  Y Coordinate    Year              Updated On Latitude  Longitude  \\\n",
       "0  1.85531e+06  2008.0  08/17/2015 03:03:40 PM  41.7583 -87.622451   \n",
       "1  1.89586e+06  2008.0  08/17/2015 03:03:40 PM  41.8703 -87.746069   \n",
       "2  1.85978e+06  2008.0  08/17/2015 03:03:40 PM   41.771 -87.698901   \n",
       "3  1.90482e+06  2008.0  08/17/2015 03:03:40 PM  41.8949 -87.757358   \n",
       "4   1.8863e+06  2008.0  08/17/2015 03:03:40 PM  41.8438 -87.709893   \n",
       "\n",
       "                        Location  \n",
       "0  (41.758275857, -87.622451031)  \n",
       "1   (41.87025207, -87.746069362)  \n",
       "2  (41.770990476, -87.698901469)  \n",
       "3  (41.894916924, -87.757358147)  \n",
       "4  (41.843826272, -87.709893465)  "
      ]
     },
     "execution_count": 4,
     "metadata": {},
     "output_type": "execute_result"
    }
   ],
   "source": [
    "starting_df.head()"
   ]
  },
  {
   "cell_type": "code",
   "execution_count": 5,
   "metadata": {},
   "outputs": [
    {
     "data": {
      "text/plain": [
       "count              7941282\n",
       "unique               58776\n",
       "top       100XX W OHARE ST\n",
       "freq                 19927\n",
       "Name: Block, dtype: object"
      ]
     },
     "execution_count": 5,
     "metadata": {},
     "output_type": "execute_result"
    }
   ],
   "source": [
    "starting_df['Block'].describe()"
   ]
  },
  {
   "cell_type": "markdown",
   "metadata": {},
   "source": [
    "### Converting the blocks fromthe trunicated street numbers and names to just the street name"
   ]
  },
  {
   "cell_type": "markdown",
   "metadata": {},
   "source": [
    "#### Due to the format it was in, it was easier to trunicate the entire address part consisting od something like this \"100XX W\" it turns out the address were trunicated for identity"
   ]
  },
  {
   "cell_type": "code",
   "execution_count": 6,
   "metadata": {},
   "outputs": [],
   "source": [
    "block_from_df =list(map(lambda x: x[8:], starting_df['Block']))"
   ]
  },
  {
   "cell_type": "code",
   "execution_count": 7,
   "metadata": {},
   "outputs": [],
   "source": [
    "type(block_from_df)\n",
    "starting_df['Block']=block_from_df"
   ]
  },
  {
   "cell_type": "code",
   "execution_count": 8,
   "metadata": {},
   "outputs": [
    {
     "data": {
      "text/plain": [
       "count      7941282\n",
       "unique        3592\n",
       "top       STATE ST\n",
       "freq        131933\n",
       "Name: Block, dtype: object"
      ]
     },
     "execution_count": 8,
     "metadata": {},
     "output_type": "execute_result"
    }
   ],
   "source": [
    "starting_df['Block'].describe()"
   ]
  },
  {
   "cell_type": "markdown",
   "metadata": {},
   "source": [
    "### Converting the date to an actual datetime for ease of use in the rest of the descriptive stats"
   ]
  },
  {
   "cell_type": "code",
   "execution_count": 9,
   "metadata": {},
   "outputs": [],
   "source": [
    "starting_df['Date'] = pd.to_datetime(starting_df['Date'], format='%m/%d/%Y %H:%M:%S %p')"
   ]
  },
  {
   "cell_type": "code",
   "execution_count": 10,
   "metadata": {},
   "outputs": [
    {
     "data": {
      "text/plain": [
       "count                 7941282\n",
       "unique                1998692\n",
       "top       2008-01-01 12:01:00\n",
       "freq                      565\n",
       "first     2001-01-01 01:00:00\n",
       "last      2017-01-18 12:55:00\n",
       "Name: Date, dtype: object"
      ]
     },
     "execution_count": 10,
     "metadata": {},
     "output_type": "execute_result"
    }
   ],
   "source": [
    "starting_df['Date'].describe()"
   ]
  },
  {
   "cell_type": "code",
   "execution_count": 11,
   "metadata": {},
   "outputs": [
    {
     "data": {
      "text/html": [
       "<div>\n",
       "<style scoped>\n",
       "    .dataframe tbody tr th:only-of-type {\n",
       "        vertical-align: middle;\n",
       "    }\n",
       "\n",
       "    .dataframe tbody tr th {\n",
       "        vertical-align: top;\n",
       "    }\n",
       "\n",
       "    .dataframe thead th {\n",
       "        text-align: right;\n",
       "    }\n",
       "</style>\n",
       "<table border=\"1\" class=\"dataframe\">\n",
       "  <thead>\n",
       "    <tr style=\"text-align: right;\">\n",
       "      <th></th>\n",
       "      <th>Unnamed: 0</th>\n",
       "      <th>ID</th>\n",
       "      <th>Case Number</th>\n",
       "      <th>Date</th>\n",
       "      <th>Block</th>\n",
       "      <th>IUCR</th>\n",
       "      <th>Primary Type</th>\n",
       "      <th>Description</th>\n",
       "      <th>Location Description</th>\n",
       "      <th>Arrest</th>\n",
       "      <th>Domestic</th>\n",
       "      <th>Beat</th>\n",
       "      <th>District</th>\n",
       "      <th>Ward</th>\n",
       "      <th>Community Area</th>\n",
       "      <th>FBI Code</th>\n",
       "      <th>X Coordinate</th>\n",
       "      <th>Y Coordinate</th>\n",
       "      <th>Year</th>\n",
       "      <th>Updated On</th>\n",
       "      <th>Latitude</th>\n",
       "      <th>Longitude</th>\n",
       "      <th>Location</th>\n",
       "    </tr>\n",
       "  </thead>\n",
       "  <tbody>\n",
       "    <tr>\n",
       "      <th>0</th>\n",
       "      <td>388</td>\n",
       "      <td>4785</td>\n",
       "      <td>HP610824</td>\n",
       "      <td>2008-10-07 12:39:00</td>\n",
       "      <td>75TH ST</td>\n",
       "      <td>0110</td>\n",
       "      <td>HOMICIDE</td>\n",
       "      <td>FIRST DEGREE MURDER</td>\n",
       "      <td>ALLEY</td>\n",
       "      <td>True</td>\n",
       "      <td>False</td>\n",
       "      <td>323</td>\n",
       "      <td>3.0</td>\n",
       "      <td>6.0</td>\n",
       "      <td>69.0</td>\n",
       "      <td>01A</td>\n",
       "      <td>1178207.0</td>\n",
       "      <td>1.85531e+06</td>\n",
       "      <td>2008.0</td>\n",
       "      <td>08/17/2015 03:03:40 PM</td>\n",
       "      <td>41.7583</td>\n",
       "      <td>-87.622451</td>\n",
       "      <td>(41.758275857, -87.622451031)</td>\n",
       "    </tr>\n",
       "    <tr>\n",
       "      <th>1</th>\n",
       "      <td>835</td>\n",
       "      <td>4786</td>\n",
       "      <td>HP616595</td>\n",
       "      <td>2008-10-09 03:30:00</td>\n",
       "      <td>POLK ST</td>\n",
       "      <td>0110</td>\n",
       "      <td>HOMICIDE</td>\n",
       "      <td>FIRST DEGREE MURDER</td>\n",
       "      <td>STREET</td>\n",
       "      <td>True</td>\n",
       "      <td>False</td>\n",
       "      <td>1533</td>\n",
       "      <td>15.0</td>\n",
       "      <td>24.0</td>\n",
       "      <td>25.0</td>\n",
       "      <td>01A</td>\n",
       "      <td>1144200.0</td>\n",
       "      <td>1.89586e+06</td>\n",
       "      <td>2008.0</td>\n",
       "      <td>08/17/2015 03:03:40 PM</td>\n",
       "      <td>41.8703</td>\n",
       "      <td>-87.746069</td>\n",
       "      <td>(41.87025207, -87.746069362)</td>\n",
       "    </tr>\n",
       "    <tr>\n",
       "      <th>2</th>\n",
       "      <td>1334</td>\n",
       "      <td>4787</td>\n",
       "      <td>HP616904</td>\n",
       "      <td>2008-10-09 08:35:00</td>\n",
       "      <td>MANN DR</td>\n",
       "      <td>0110</td>\n",
       "      <td>HOMICIDE</td>\n",
       "      <td>FIRST DEGREE MURDER</td>\n",
       "      <td>PARK PROPERTY</td>\n",
       "      <td>False</td>\n",
       "      <td>False</td>\n",
       "      <td>831</td>\n",
       "      <td>8.0</td>\n",
       "      <td>18.0</td>\n",
       "      <td>66.0</td>\n",
       "      <td>01A</td>\n",
       "      <td>1157314.0</td>\n",
       "      <td>1.85978e+06</td>\n",
       "      <td>2008.0</td>\n",
       "      <td>08/17/2015 03:03:40 PM</td>\n",
       "      <td>41.771</td>\n",
       "      <td>-87.698901</td>\n",
       "      <td>(41.770990476, -87.698901469)</td>\n",
       "    </tr>\n",
       "    <tr>\n",
       "      <th>3</th>\n",
       "      <td>1907</td>\n",
       "      <td>4788</td>\n",
       "      <td>HP618616</td>\n",
       "      <td>2008-10-10 02:33:00</td>\n",
       "      <td>CHICAGO AVE</td>\n",
       "      <td>0110</td>\n",
       "      <td>HOMICIDE</td>\n",
       "      <td>FIRST DEGREE MURDER</td>\n",
       "      <td>RESTAURANT</td>\n",
       "      <td>False</td>\n",
       "      <td>False</td>\n",
       "      <td>1524</td>\n",
       "      <td>15.0</td>\n",
       "      <td>37.0</td>\n",
       "      <td>25.0</td>\n",
       "      <td>01A</td>\n",
       "      <td>1141065.0</td>\n",
       "      <td>1.90482e+06</td>\n",
       "      <td>2008.0</td>\n",
       "      <td>08/17/2015 03:03:40 PM</td>\n",
       "      <td>41.8949</td>\n",
       "      <td>-87.757358</td>\n",
       "      <td>(41.894916924, -87.757358147)</td>\n",
       "    </tr>\n",
       "    <tr>\n",
       "      <th>4</th>\n",
       "      <td>2436</td>\n",
       "      <td>4789</td>\n",
       "      <td>HP619020</td>\n",
       "      <td>2008-10-10 12:50:00</td>\n",
       "      <td>HOMAN AVE</td>\n",
       "      <td>0110</td>\n",
       "      <td>HOMICIDE</td>\n",
       "      <td>FIRST DEGREE MURDER</td>\n",
       "      <td>GARAGE</td>\n",
       "      <td>False</td>\n",
       "      <td>True</td>\n",
       "      <td>1032</td>\n",
       "      <td>10.0</td>\n",
       "      <td>22.0</td>\n",
       "      <td>30.0</td>\n",
       "      <td>01A</td>\n",
       "      <td>1154123.0</td>\n",
       "      <td>1.8863e+06</td>\n",
       "      <td>2008.0</td>\n",
       "      <td>08/17/2015 03:03:40 PM</td>\n",
       "      <td>41.8438</td>\n",
       "      <td>-87.709893</td>\n",
       "      <td>(41.843826272, -87.709893465)</td>\n",
       "    </tr>\n",
       "  </tbody>\n",
       "</table>\n",
       "</div>"
      ],
      "text/plain": [
       "   Unnamed: 0    ID Case Number                Date        Block  IUCR  \\\n",
       "0         388  4785    HP610824 2008-10-07 12:39:00      75TH ST  0110   \n",
       "1         835  4786    HP616595 2008-10-09 03:30:00      POLK ST  0110   \n",
       "2        1334  4787    HP616904 2008-10-09 08:35:00      MANN DR  0110   \n",
       "3        1907  4788    HP618616 2008-10-10 02:33:00  CHICAGO AVE  0110   \n",
       "4        2436  4789    HP619020 2008-10-10 12:50:00    HOMAN AVE  0110   \n",
       "\n",
       "  Primary Type          Description Location Description  Arrest  Domestic  \\\n",
       "0     HOMICIDE  FIRST DEGREE MURDER                ALLEY    True     False   \n",
       "1     HOMICIDE  FIRST DEGREE MURDER               STREET    True     False   \n",
       "2     HOMICIDE  FIRST DEGREE MURDER        PARK PROPERTY   False     False   \n",
       "3     HOMICIDE  FIRST DEGREE MURDER           RESTAURANT   False     False   \n",
       "4     HOMICIDE  FIRST DEGREE MURDER               GARAGE   False      True   \n",
       "\n",
       "   Beat  District  Ward  Community Area FBI Code  X Coordinate Y Coordinate  \\\n",
       "0   323       3.0   6.0            69.0      01A     1178207.0  1.85531e+06   \n",
       "1  1533      15.0  24.0            25.0      01A     1144200.0  1.89586e+06   \n",
       "2   831       8.0  18.0            66.0      01A     1157314.0  1.85978e+06   \n",
       "3  1524      15.0  37.0            25.0      01A     1141065.0  1.90482e+06   \n",
       "4  1032      10.0  22.0            30.0      01A     1154123.0   1.8863e+06   \n",
       "\n",
       "     Year              Updated On Latitude  Longitude  \\\n",
       "0  2008.0  08/17/2015 03:03:40 PM  41.7583 -87.622451   \n",
       "1  2008.0  08/17/2015 03:03:40 PM  41.8703 -87.746069   \n",
       "2  2008.0  08/17/2015 03:03:40 PM   41.771 -87.698901   \n",
       "3  2008.0  08/17/2015 03:03:40 PM  41.8949 -87.757358   \n",
       "4  2008.0  08/17/2015 03:03:40 PM  41.8438 -87.709893   \n",
       "\n",
       "                        Location  \n",
       "0  (41.758275857, -87.622451031)  \n",
       "1   (41.87025207, -87.746069362)  \n",
       "2  (41.770990476, -87.698901469)  \n",
       "3  (41.894916924, -87.757358147)  \n",
       "4  (41.843826272, -87.709893465)  "
      ]
     },
     "execution_count": 11,
     "metadata": {},
     "output_type": "execute_result"
    }
   ],
   "source": [
    "starting_df.head()"
   ]
  },
  {
   "cell_type": "markdown",
   "metadata": {},
   "source": [
    "### Difference between district, ward, community area and beat and why I chose to use beats.\n",
    "#### A ward is always a legally defined political subdivision. A district may be legally defined,and in this case it is. Community areas are a bit more archaic and were set by social scientists to track demographic changes, this unfortunately has not evolved with the growth and change of the city.  \n",
    "#### The item that makes the most sense for this is the \"beat\" which is a small block/ neigborhood or section of town that has a dedicated police man assigned to it. This of this as the police box from England, Japan, or SK"
   ]
  },
  {
   "cell_type": "code",
   "execution_count": 12,
   "metadata": {},
   "outputs": [
    {
     "data": {
      "text/plain": [
       "count      7941282\n",
       "unique        3592\n",
       "top       STATE ST\n",
       "freq        131933\n",
       "Name: Block, dtype: object"
      ]
     },
     "execution_count": 12,
     "metadata": {},
     "output_type": "execute_result"
    }
   ],
   "source": [
    "starting_df['Block'].describe()"
   ]
  },
  {
   "cell_type": "markdown",
   "metadata": {},
   "source": [
    "### 1b. Dropping columns with no discernable effect on the stats or that have been picked over for a more preferential label( in this case: ward,District, Unnamed: 0,\tID,\tCase Number,FBI Code,Updated On,Latitude,Longitude,X Coordinate,Y Coordinate,IUCR)"
   ]
  },
  {
   "cell_type": "markdown",
   "metadata": {},
   "source": [
    "### 1c. Size and demonsionality"
   ]
  },
  {
   "cell_type": "code",
   "execution_count": 13,
   "metadata": {},
   "outputs": [
    {
     "name": "stdout",
     "output_type": "stream",
     "text": [
      "The total number of rows is 7941282, and the total number of columns is 23, for a total number of datapoints being 182649486\n"
     ]
    }
   ],
   "source": [
    "#total number of rows\n",
    "print('The total number of rows is {}, and the total number of columns is {}, for a total number of datapoints being {}'.format(len(starting_df),len(starting_df.columns),len(starting_df)*len(starting_df.columns)))"
   ]
  },
  {
   "cell_type": "markdown",
   "metadata": {},
   "source": [
    "### 1c. Checking for NaN values"
   ]
  },
  {
   "cell_type": "code",
   "execution_count": 14,
   "metadata": {},
   "outputs": [
    {
     "name": "stdout",
     "output_type": "stream",
     "text": [
      "NA values are in the columns Case Number. the count isFalse    7941275\n",
      "True           7\n",
      "Name: Case Number, dtype: int64\n",
      "NA values are in the columns Location Description. the count isFalse    7939292\n",
      "True        1990\n",
      "Name: Location Description, dtype: int64\n",
      "NA values are in the columns District. the count isFalse    7941191\n",
      "True          91\n",
      "Name: District, dtype: int64\n",
      "NA values are in the columns Ward. the count isFalse    7241058\n",
      "True      700224\n",
      "Name: Ward, dtype: int64\n",
      "NA values are in the columns Community Area. the count isFalse    7239191\n",
      "True      702091\n",
      "Name: Community Area, dtype: int64\n",
      "NA values are in the columns X Coordinate. the count isFalse    7835709\n",
      "True      105573\n",
      "Name: X Coordinate, dtype: int64\n",
      "NA values are in the columns Y Coordinate. the count isFalse    7835709\n",
      "True      105573\n",
      "Name: Y Coordinate, dtype: int64\n",
      "NA values are in the columns Latitude. the count isFalse    7835709\n",
      "True      105573\n",
      "Name: Latitude, dtype: int64\n",
      "NA values are in the columns Longitude. the count isFalse    7835708\n",
      "True      105574\n",
      "Name: Longitude, dtype: int64\n",
      "NA values are in the columns Location. the count isFalse    7835708\n",
      "True      105574\n",
      "Name: Location, dtype: int64\n"
     ]
    }
   ],
   "source": [
    "# By columns\n",
    "for column in starting_df.columns:\n",
    "    if any(pd.isna(starting_df[column])):\n",
    "        print('NA values are in the columns {}. the count is{}'.format(column,pd.isna(starting_df[column]).value_counts()))\n",
    "    \n",
    "#Luckily all of that data that I would be using for this set of stats do not use these ( I was originally going to use the location, but ti turns out that police men in this city do not alway but this at the reports so there are numvrous missing values)"
   ]
  },
  {
   "cell_type": "code",
   "execution_count": 15,
   "metadata": {},
   "outputs": [],
   "source": [
    "starting_df=starting_df.drop(['Case Number','Longitude','Y Coordinate','X Coordinate','Ward','District','Case Number','FBI Code','Unnamed: 0','IUCR','Community Area','Updated On','Updated On','ID','Latitude'], axis=1)"
   ]
  },
  {
   "cell_type": "code",
   "execution_count": 16,
   "metadata": {},
   "outputs": [],
   "source": [
    "starting_df['Year']=starting_df['Year'].astype(int)"
   ]
  },
  {
   "cell_type": "code",
   "execution_count": 17,
   "metadata": {},
   "outputs": [
    {
     "data": {
      "text/html": [
       "<div>\n",
       "<style scoped>\n",
       "    .dataframe tbody tr th:only-of-type {\n",
       "        vertical-align: middle;\n",
       "    }\n",
       "\n",
       "    .dataframe tbody tr th {\n",
       "        vertical-align: top;\n",
       "    }\n",
       "\n",
       "    .dataframe thead th {\n",
       "        text-align: right;\n",
       "    }\n",
       "</style>\n",
       "<table border=\"1\" class=\"dataframe\">\n",
       "  <thead>\n",
       "    <tr style=\"text-align: right;\">\n",
       "      <th></th>\n",
       "      <th>Date</th>\n",
       "      <th>Block</th>\n",
       "      <th>Primary Type</th>\n",
       "      <th>Description</th>\n",
       "      <th>Location Description</th>\n",
       "      <th>Arrest</th>\n",
       "      <th>Domestic</th>\n",
       "      <th>Beat</th>\n",
       "      <th>Year</th>\n",
       "      <th>Location</th>\n",
       "    </tr>\n",
       "  </thead>\n",
       "  <tbody>\n",
       "    <tr>\n",
       "      <th>0</th>\n",
       "      <td>2008-10-07 12:39:00</td>\n",
       "      <td>75TH ST</td>\n",
       "      <td>HOMICIDE</td>\n",
       "      <td>FIRST DEGREE MURDER</td>\n",
       "      <td>ALLEY</td>\n",
       "      <td>True</td>\n",
       "      <td>False</td>\n",
       "      <td>323</td>\n",
       "      <td>2008</td>\n",
       "      <td>(41.758275857, -87.622451031)</td>\n",
       "    </tr>\n",
       "    <tr>\n",
       "      <th>1</th>\n",
       "      <td>2008-10-09 03:30:00</td>\n",
       "      <td>POLK ST</td>\n",
       "      <td>HOMICIDE</td>\n",
       "      <td>FIRST DEGREE MURDER</td>\n",
       "      <td>STREET</td>\n",
       "      <td>True</td>\n",
       "      <td>False</td>\n",
       "      <td>1533</td>\n",
       "      <td>2008</td>\n",
       "      <td>(41.87025207, -87.746069362)</td>\n",
       "    </tr>\n",
       "    <tr>\n",
       "      <th>2</th>\n",
       "      <td>2008-10-09 08:35:00</td>\n",
       "      <td>MANN DR</td>\n",
       "      <td>HOMICIDE</td>\n",
       "      <td>FIRST DEGREE MURDER</td>\n",
       "      <td>PARK PROPERTY</td>\n",
       "      <td>False</td>\n",
       "      <td>False</td>\n",
       "      <td>831</td>\n",
       "      <td>2008</td>\n",
       "      <td>(41.770990476, -87.698901469)</td>\n",
       "    </tr>\n",
       "    <tr>\n",
       "      <th>3</th>\n",
       "      <td>2008-10-10 02:33:00</td>\n",
       "      <td>CHICAGO AVE</td>\n",
       "      <td>HOMICIDE</td>\n",
       "      <td>FIRST DEGREE MURDER</td>\n",
       "      <td>RESTAURANT</td>\n",
       "      <td>False</td>\n",
       "      <td>False</td>\n",
       "      <td>1524</td>\n",
       "      <td>2008</td>\n",
       "      <td>(41.894916924, -87.757358147)</td>\n",
       "    </tr>\n",
       "    <tr>\n",
       "      <th>4</th>\n",
       "      <td>2008-10-10 12:50:00</td>\n",
       "      <td>HOMAN AVE</td>\n",
       "      <td>HOMICIDE</td>\n",
       "      <td>FIRST DEGREE MURDER</td>\n",
       "      <td>GARAGE</td>\n",
       "      <td>False</td>\n",
       "      <td>True</td>\n",
       "      <td>1032</td>\n",
       "      <td>2008</td>\n",
       "      <td>(41.843826272, -87.709893465)</td>\n",
       "    </tr>\n",
       "  </tbody>\n",
       "</table>\n",
       "</div>"
      ],
      "text/plain": [
       "                 Date        Block Primary Type          Description  \\\n",
       "0 2008-10-07 12:39:00      75TH ST     HOMICIDE  FIRST DEGREE MURDER   \n",
       "1 2008-10-09 03:30:00      POLK ST     HOMICIDE  FIRST DEGREE MURDER   \n",
       "2 2008-10-09 08:35:00      MANN DR     HOMICIDE  FIRST DEGREE MURDER   \n",
       "3 2008-10-10 02:33:00  CHICAGO AVE     HOMICIDE  FIRST DEGREE MURDER   \n",
       "4 2008-10-10 12:50:00    HOMAN AVE     HOMICIDE  FIRST DEGREE MURDER   \n",
       "\n",
       "  Location Description  Arrest  Domestic  Beat  Year  \\\n",
       "0                ALLEY    True     False   323  2008   \n",
       "1               STREET    True     False  1533  2008   \n",
       "2        PARK PROPERTY   False     False   831  2008   \n",
       "3           RESTAURANT   False     False  1524  2008   \n",
       "4               GARAGE   False      True  1032  2008   \n",
       "\n",
       "                        Location  \n",
       "0  (41.758275857, -87.622451031)  \n",
       "1   (41.87025207, -87.746069362)  \n",
       "2  (41.770990476, -87.698901469)  \n",
       "3  (41.894916924, -87.757358147)  \n",
       "4  (41.843826272, -87.709893465)  "
      ]
     },
     "execution_count": 17,
     "metadata": {},
     "output_type": "execute_result"
    }
   ],
   "source": [
    "starting_df.head()"
   ]
  },
  {
   "cell_type": "code",
   "execution_count": 20,
   "metadata": {},
   "outputs": [],
   "source": [
    "starting_df.to_csv('CleanedCrimes.csv')"
   ]
  }
 ],
 "metadata": {
  "extensions": {
   "jupyter_dashboards": {
    "activeView": "grid_default",
    "version": 1,
    "views": {
     "grid_default": {
      "cellMargin": 10,
      "defaultCellHeight": 20,
      "maxColumns": 12,
      "name": "grid",
      "type": "grid"
     },
     "report_default": {
      "name": "report",
      "type": "report"
     }
    }
   }
  },
  "kernelspec": {
   "display_name": "Python 3",
   "language": "python",
   "name": "python3"
  },
  "language_info": {
   "codemirror_mode": {
    "name": "ipython",
    "version": 3
   },
   "file_extension": ".py",
   "mimetype": "text/x-python",
   "name": "python",
   "nbconvert_exporter": "python",
   "pygments_lexer": "ipython3",
   "version": "3.6.5"
  }
 },
 "nbformat": 4,
 "nbformat_minor": 2
}
