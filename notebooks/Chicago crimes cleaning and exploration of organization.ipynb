{
 "cells": [
  {
   "cell_type": "markdown",
   "metadata": {
    "extensions": {
     "jupyter_dashboards": {
      "version": 1,
      "views": {
       "grid_default": {
        "hidden": true
       },
       "report_default": {}
      }
     }
    }
   },
   "source": [
    "# Chicago crimes dataset: Exploratory Data Analysis"
   ]
  },
  {
   "cell_type": "code",
   "execution_count": 1,
   "metadata": {},
   "outputs": [
    {
     "name": "stdout",
     "output_type": "stream",
     "text": [
      "/Users/donovanadams/Desktop/GitHub/DS-3-Deep-Learning/notebooks/crimes\n"
     ]
    }
   ],
   "source": [
    "import pandas as pd\n",
    "import seaborn as sns\n",
    "import matplotlib as plt\n",
    "import numpy as np\n",
    "import glob\n",
    "from datetime import datetime\n",
    "#used to display all of the columns\n",
    "pd.set_option('display.max_columns',100)\n",
    "\n",
    "%matplotlib inline\n",
    "% cd crimes"
   ]
  },
  {
   "cell_type": "markdown",
   "metadata": {},
   "source": [
    "## 1. Data loading and cleaning"
   ]
  },
  {
   "cell_type": "markdown",
   "metadata": {},
   "source": [
    "### 1a. Data loading"
   ]
  },
  {
   "cell_type": "code",
   "execution_count": 2,
   "metadata": {},
   "outputs": [
    {
     "name": "stdout",
     "output_type": "stream",
     "text": [
      "Chicago_Crimes_2008_to_2011.csv\n",
      "Chicago_Crimes_2001_to_2004.csv\n",
      "Chicago_Crimes_2012_to_2017.csv\n",
      "CleanedCrimes.csv\n",
      "Chicago_Crimes_2005_to_2007.csv\n"
     ]
    }
   ],
   "source": [
    "# initial load of dataset\n",
    "all_csv = glob.glob('*')\n",
    "for csv in all_csv:\n",
    "    print(csv)"
   ]
  },
  {
   "cell_type": "code",
   "execution_count": 3,
   "metadata": {},
   "outputs": [
    {
     "name": "stderr",
     "output_type": "stream",
     "text": [
      "b'Skipping line 1149094: expected 23 fields, saw 41\\n'\n",
      "b'Skipping line 1513591: expected 23 fields, saw 24\\n'\n",
      "/Users/donovanadams/anaconda3/lib/python3.6/site-packages/IPython/core/interactiveshell.py:2903: DtypeWarning: Columns (17,20) have mixed types. Specify dtype option on import or set low_memory=False.\n",
      "  if self.run_code(code, result):\n",
      "b'Skipping line 533719: expected 23 fields, saw 24\\n'\n",
      "/Users/donovanadams/anaconda3/lib/python3.6/site-packages/ipykernel_launcher.py:9: FutureWarning: Sorting because non-concatenation axis is not aligned. A future version\n",
      "of pandas will change to not sort by default.\n",
      "\n",
      "To accept the future behavior, pass 'sort=True'.\n",
      "\n",
      "To retain the current behavior and silence the warning, pass sort=False\n",
      "\n",
      "  if __name__ == '__main__':\n"
     ]
    }
   ],
   "source": [
    "#loading all files into one csv\n",
    "def readFilesFolder():\n",
    "    #reads in the list of file string locations and creates new dfs out of them,it then appends them\n",
    "    data_frames_list=list()\n",
    "    for csv in all_csv:\n",
    "        new_df=pd.read_csv(csv,error_bad_lines=False)\n",
    "        data_frames_list.append(new_df)\n",
    "        \n",
    "    df=pd.concat(data_frames_list)\n",
    "    return df\n",
    "starting_df = readFilesFolder()\n"
   ]
  },
  {
   "cell_type": "code",
   "execution_count": 4,
   "metadata": {},
   "outputs": [
    {
     "data": {
      "text/html": [
       "<div>\n",
       "<style scoped>\n",
       "    .dataframe tbody tr th:only-of-type {\n",
       "        vertical-align: middle;\n",
       "    }\n",
       "\n",
       "    .dataframe tbody tr th {\n",
       "        vertical-align: top;\n",
       "    }\n",
       "\n",
       "    .dataframe thead th {\n",
       "        text-align: right;\n",
       "    }\n",
       "</style>\n",
       "<table border=\"1\" class=\"dataframe\">\n",
       "  <thead>\n",
       "    <tr style=\"text-align: right;\">\n",
       "      <th></th>\n",
       "      <th>Arrest</th>\n",
       "      <th>Beat</th>\n",
       "      <th>Block</th>\n",
       "      <th>Case Number</th>\n",
       "      <th>Community Area</th>\n",
       "      <th>Date</th>\n",
       "      <th>Description</th>\n",
       "      <th>District</th>\n",
       "      <th>Domestic</th>\n",
       "      <th>FBI Code</th>\n",
       "      <th>ID</th>\n",
       "      <th>IUCR</th>\n",
       "      <th>Latitude</th>\n",
       "      <th>Location</th>\n",
       "      <th>Location Description</th>\n",
       "      <th>Longitude</th>\n",
       "      <th>Primary Type</th>\n",
       "      <th>Unnamed: 0</th>\n",
       "      <th>Updated On</th>\n",
       "      <th>Ward</th>\n",
       "      <th>X Coordinate</th>\n",
       "      <th>Y Coordinate</th>\n",
       "      <th>Year</th>\n",
       "    </tr>\n",
       "  </thead>\n",
       "  <tbody>\n",
       "    <tr>\n",
       "      <th>0</th>\n",
       "      <td>True</td>\n",
       "      <td>323</td>\n",
       "      <td>000XX E 75TH ST</td>\n",
       "      <td>HP610824</td>\n",
       "      <td>69.0</td>\n",
       "      <td>10/07/2008 12:39:00 PM</td>\n",
       "      <td>FIRST DEGREE MURDER</td>\n",
       "      <td>3.0</td>\n",
       "      <td>False</td>\n",
       "      <td>01A</td>\n",
       "      <td>4785.0</td>\n",
       "      <td>0110</td>\n",
       "      <td>41.7583</td>\n",
       "      <td>(41.758275857, -87.622451031)</td>\n",
       "      <td>ALLEY</td>\n",
       "      <td>-87.622451</td>\n",
       "      <td>HOMICIDE</td>\n",
       "      <td>388</td>\n",
       "      <td>08/17/2015 03:03:40 PM</td>\n",
       "      <td>6.0</td>\n",
       "      <td>1178207.0</td>\n",
       "      <td>1.85531e+06</td>\n",
       "      <td>2008.0</td>\n",
       "    </tr>\n",
       "    <tr>\n",
       "      <th>1</th>\n",
       "      <td>True</td>\n",
       "      <td>1533</td>\n",
       "      <td>048XX W POLK ST</td>\n",
       "      <td>HP616595</td>\n",
       "      <td>25.0</td>\n",
       "      <td>10/09/2008 03:30:00 AM</td>\n",
       "      <td>FIRST DEGREE MURDER</td>\n",
       "      <td>15.0</td>\n",
       "      <td>False</td>\n",
       "      <td>01A</td>\n",
       "      <td>4786.0</td>\n",
       "      <td>0110</td>\n",
       "      <td>41.8703</td>\n",
       "      <td>(41.87025207, -87.746069362)</td>\n",
       "      <td>STREET</td>\n",
       "      <td>-87.746069</td>\n",
       "      <td>HOMICIDE</td>\n",
       "      <td>835</td>\n",
       "      <td>08/17/2015 03:03:40 PM</td>\n",
       "      <td>24.0</td>\n",
       "      <td>1144200.0</td>\n",
       "      <td>1.89586e+06</td>\n",
       "      <td>2008.0</td>\n",
       "    </tr>\n",
       "    <tr>\n",
       "      <th>2</th>\n",
       "      <td>False</td>\n",
       "      <td>831</td>\n",
       "      <td>030XX W MANN DR</td>\n",
       "      <td>HP616904</td>\n",
       "      <td>66.0</td>\n",
       "      <td>10/09/2008 08:35:00 AM</td>\n",
       "      <td>FIRST DEGREE MURDER</td>\n",
       "      <td>8.0</td>\n",
       "      <td>False</td>\n",
       "      <td>01A</td>\n",
       "      <td>4787.0</td>\n",
       "      <td>0110</td>\n",
       "      <td>41.771</td>\n",
       "      <td>(41.770990476, -87.698901469)</td>\n",
       "      <td>PARK PROPERTY</td>\n",
       "      <td>-87.698901</td>\n",
       "      <td>HOMICIDE</td>\n",
       "      <td>1334</td>\n",
       "      <td>08/17/2015 03:03:40 PM</td>\n",
       "      <td>18.0</td>\n",
       "      <td>1157314.0</td>\n",
       "      <td>1.85978e+06</td>\n",
       "      <td>2008.0</td>\n",
       "    </tr>\n",
       "    <tr>\n",
       "      <th>3</th>\n",
       "      <td>False</td>\n",
       "      <td>1524</td>\n",
       "      <td>052XX W CHICAGO AVE</td>\n",
       "      <td>HP618616</td>\n",
       "      <td>25.0</td>\n",
       "      <td>10/10/2008 02:33:00 AM</td>\n",
       "      <td>FIRST DEGREE MURDER</td>\n",
       "      <td>15.0</td>\n",
       "      <td>False</td>\n",
       "      <td>01A</td>\n",
       "      <td>4788.0</td>\n",
       "      <td>0110</td>\n",
       "      <td>41.8949</td>\n",
       "      <td>(41.894916924, -87.757358147)</td>\n",
       "      <td>RESTAURANT</td>\n",
       "      <td>-87.757358</td>\n",
       "      <td>HOMICIDE</td>\n",
       "      <td>1907</td>\n",
       "      <td>08/17/2015 03:03:40 PM</td>\n",
       "      <td>37.0</td>\n",
       "      <td>1141065.0</td>\n",
       "      <td>1.90482e+06</td>\n",
       "      <td>2008.0</td>\n",
       "    </tr>\n",
       "    <tr>\n",
       "      <th>4</th>\n",
       "      <td>False</td>\n",
       "      <td>1032</td>\n",
       "      <td>026XX S HOMAN AVE</td>\n",
       "      <td>HP619020</td>\n",
       "      <td>30.0</td>\n",
       "      <td>10/10/2008 12:50:00 PM</td>\n",
       "      <td>FIRST DEGREE MURDER</td>\n",
       "      <td>10.0</td>\n",
       "      <td>True</td>\n",
       "      <td>01A</td>\n",
       "      <td>4789.0</td>\n",
       "      <td>0110</td>\n",
       "      <td>41.8438</td>\n",
       "      <td>(41.843826272, -87.709893465)</td>\n",
       "      <td>GARAGE</td>\n",
       "      <td>-87.709893</td>\n",
       "      <td>HOMICIDE</td>\n",
       "      <td>2436</td>\n",
       "      <td>08/17/2015 03:03:40 PM</td>\n",
       "      <td>22.0</td>\n",
       "      <td>1154123.0</td>\n",
       "      <td>1.8863e+06</td>\n",
       "      <td>2008.0</td>\n",
       "    </tr>\n",
       "  </tbody>\n",
       "</table>\n",
       "</div>"
      ],
      "text/plain": [
       "   Arrest  Beat                Block Case Number  Community Area  \\\n",
       "0    True   323      000XX E 75TH ST    HP610824            69.0   \n",
       "1    True  1533      048XX W POLK ST    HP616595            25.0   \n",
       "2   False   831      030XX W MANN DR    HP616904            66.0   \n",
       "3   False  1524  052XX W CHICAGO AVE    HP618616            25.0   \n",
       "4   False  1032    026XX S HOMAN AVE    HP619020            30.0   \n",
       "\n",
       "                     Date          Description  District  Domestic FBI Code  \\\n",
       "0  10/07/2008 12:39:00 PM  FIRST DEGREE MURDER       3.0     False      01A   \n",
       "1  10/09/2008 03:30:00 AM  FIRST DEGREE MURDER      15.0     False      01A   \n",
       "2  10/09/2008 08:35:00 AM  FIRST DEGREE MURDER       8.0     False      01A   \n",
       "3  10/10/2008 02:33:00 AM  FIRST DEGREE MURDER      15.0     False      01A   \n",
       "4  10/10/2008 12:50:00 PM  FIRST DEGREE MURDER      10.0      True      01A   \n",
       "\n",
       "       ID  IUCR Latitude                       Location Location Description  \\\n",
       "0  4785.0  0110  41.7583  (41.758275857, -87.622451031)                ALLEY   \n",
       "1  4786.0  0110  41.8703   (41.87025207, -87.746069362)               STREET   \n",
       "2  4787.0  0110   41.771  (41.770990476, -87.698901469)        PARK PROPERTY   \n",
       "3  4788.0  0110  41.8949  (41.894916924, -87.757358147)           RESTAURANT   \n",
       "4  4789.0  0110  41.8438  (41.843826272, -87.709893465)               GARAGE   \n",
       "\n",
       "   Longitude Primary Type  Unnamed: 0              Updated On  Ward  \\\n",
       "0 -87.622451     HOMICIDE         388  08/17/2015 03:03:40 PM   6.0   \n",
       "1 -87.746069     HOMICIDE         835  08/17/2015 03:03:40 PM  24.0   \n",
       "2 -87.698901     HOMICIDE        1334  08/17/2015 03:03:40 PM  18.0   \n",
       "3 -87.757358     HOMICIDE        1907  08/17/2015 03:03:40 PM  37.0   \n",
       "4 -87.709893     HOMICIDE        2436  08/17/2015 03:03:40 PM  22.0   \n",
       "\n",
       "   X Coordinate Y Coordinate    Year  \n",
       "0     1178207.0  1.85531e+06  2008.0  \n",
       "1     1144200.0  1.89586e+06  2008.0  \n",
       "2     1157314.0  1.85978e+06  2008.0  \n",
       "3     1141065.0  1.90482e+06  2008.0  \n",
       "4     1154123.0   1.8863e+06  2008.0  "
      ]
     },
     "execution_count": 4,
     "metadata": {},
     "output_type": "execute_result"
    }
   ],
   "source": [
    "starting_df.head()"
   ]
  },
  {
   "cell_type": "code",
   "execution_count": 5,
   "metadata": {},
   "outputs": [
    {
     "data": {
      "text/plain": [
       "count     15882564\n",
       "unique       62368\n",
       "top       STATE ST\n",
       "freq        131933\n",
       "Name: Block, dtype: object"
      ]
     },
     "execution_count": 5,
     "metadata": {},
     "output_type": "execute_result"
    }
   ],
   "source": [
    "starting_df['Block'].describe()"
   ]
  },
  {
   "cell_type": "markdown",
   "metadata": {},
   "source": [
    "### Converting the blocks fromthe trunicated street numbers and names to just the street name"
   ]
  },
  {
   "cell_type": "markdown",
   "metadata": {},
   "source": [
    "#### Due to the format it was in, it was easier to trunicate the entire address part consisting od something like this \"100XX W\" it turns out the address were trunicated for identity"
   ]
  },
  {
   "cell_type": "code",
   "execution_count": 6,
   "metadata": {},
   "outputs": [],
   "source": [
    "block_from_df =list(map(lambda x: x[8:], starting_df['Block']))"
   ]
  },
  {
   "cell_type": "code",
   "execution_count": 7,
   "metadata": {},
   "outputs": [],
   "source": [
    "type(block_from_df)\n",
    "starting_df['Block']=block_from_df"
   ]
  },
  {
   "cell_type": "code",
   "execution_count": 8,
   "metadata": {},
   "outputs": [
    {
     "data": {
      "text/plain": [
       "count     15882564\n",
       "unique        4332\n",
       "top               \n",
       "freq       1850256\n",
       "Name: Block, dtype: object"
      ]
     },
     "execution_count": 8,
     "metadata": {},
     "output_type": "execute_result"
    }
   ],
   "source": [
    "starting_df['Block'].describe()"
   ]
  },
  {
   "cell_type": "markdown",
   "metadata": {},
   "source": [
    "### Converting the date to an actual datetime for ease of use in the rest of the descriptive stats"
   ]
  },
  {
   "cell_type": "code",
   "execution_count": 9,
   "metadata": {},
   "outputs": [
    {
     "ename": "ValueError",
     "evalue": "time data '2008-10-07 12:39:00' does not match format '%m/%d/%Y %I:%M:%S %p' (match)",
     "output_type": "error",
     "traceback": [
      "\u001b[0;31m---------------------------------------------------------------------------\u001b[0m",
      "\u001b[0;31mTypeError\u001b[0m                                 Traceback (most recent call last)",
      "\u001b[0;32m~/anaconda3/lib/python3.6/site-packages/pandas/core/tools/datetimes.py\u001b[0m in \u001b[0;36m_convert_listlike\u001b[0;34m(arg, box, format, name, tz)\u001b[0m\n\u001b[1;32m    376\u001b[0m             \u001b[0;32mtry\u001b[0m\u001b[0;34m:\u001b[0m\u001b[0;34m\u001b[0m\u001b[0m\n\u001b[0;32m--> 377\u001b[0;31m                 \u001b[0mvalues\u001b[0m\u001b[0;34m,\u001b[0m \u001b[0mtz\u001b[0m \u001b[0;34m=\u001b[0m \u001b[0mconversion\u001b[0m\u001b[0;34m.\u001b[0m\u001b[0mdatetime_to_datetime64\u001b[0m\u001b[0;34m(\u001b[0m\u001b[0marg\u001b[0m\u001b[0;34m)\u001b[0m\u001b[0;34m\u001b[0m\u001b[0m\n\u001b[0m\u001b[1;32m    378\u001b[0m                 \u001b[0;32mreturn\u001b[0m \u001b[0mDatetimeIndex\u001b[0m\u001b[0;34m.\u001b[0m\u001b[0m_simple_new\u001b[0m\u001b[0;34m(\u001b[0m\u001b[0mvalues\u001b[0m\u001b[0;34m,\u001b[0m \u001b[0mname\u001b[0m\u001b[0;34m=\u001b[0m\u001b[0mname\u001b[0m\u001b[0;34m,\u001b[0m \u001b[0mtz\u001b[0m\u001b[0;34m=\u001b[0m\u001b[0mtz\u001b[0m\u001b[0;34m)\u001b[0m\u001b[0;34m\u001b[0m\u001b[0m\n",
      "\u001b[0;32mpandas/_libs/tslibs/conversion.pyx\u001b[0m in \u001b[0;36mpandas._libs.tslibs.conversion.datetime_to_datetime64\u001b[0;34m()\u001b[0m\n",
      "\u001b[0;31mTypeError\u001b[0m: Unrecognized value type: <class 'str'>",
      "\nDuring handling of the above exception, another exception occurred:\n",
      "\u001b[0;31mValueError\u001b[0m                                Traceback (most recent call last)",
      "\u001b[0;32m<ipython-input-9-04f0cc92e030>\u001b[0m in \u001b[0;36m<module>\u001b[0;34m()\u001b[0m\n\u001b[0;32m----> 1\u001b[0;31m \u001b[0mstarting_df\u001b[0m\u001b[0;34m[\u001b[0m\u001b[0;34m'Date'\u001b[0m\u001b[0;34m]\u001b[0m \u001b[0;34m=\u001b[0m \u001b[0mpd\u001b[0m\u001b[0;34m.\u001b[0m\u001b[0mto_datetime\u001b[0m\u001b[0;34m(\u001b[0m\u001b[0mstarting_df\u001b[0m\u001b[0;34m[\u001b[0m\u001b[0;34m'Date'\u001b[0m\u001b[0;34m]\u001b[0m\u001b[0;34m,\u001b[0m \u001b[0mformat\u001b[0m\u001b[0;34m=\u001b[0m\u001b[0;34m'%m/%d/%Y %I:%M:%S %p'\u001b[0m\u001b[0;34m)\u001b[0m\u001b[0;34m\u001b[0m\u001b[0m\n\u001b[0m",
      "\u001b[0;32m~/anaconda3/lib/python3.6/site-packages/pandas/core/tools/datetimes.py\u001b[0m in \u001b[0;36mto_datetime\u001b[0;34m(arg, errors, dayfirst, yearfirst, utc, box, format, exact, unit, infer_datetime_format, origin, cache)\u001b[0m\n\u001b[1;32m    449\u001b[0m         \u001b[0;32melse\u001b[0m\u001b[0;34m:\u001b[0m\u001b[0;34m\u001b[0m\u001b[0m\n\u001b[1;32m    450\u001b[0m             \u001b[0;32mfrom\u001b[0m \u001b[0mpandas\u001b[0m \u001b[0;32mimport\u001b[0m \u001b[0mSeries\u001b[0m\u001b[0;34m\u001b[0m\u001b[0m\n\u001b[0;32m--> 451\u001b[0;31m             \u001b[0mvalues\u001b[0m \u001b[0;34m=\u001b[0m \u001b[0m_convert_listlike\u001b[0m\u001b[0;34m(\u001b[0m\u001b[0marg\u001b[0m\u001b[0;34m.\u001b[0m\u001b[0m_values\u001b[0m\u001b[0;34m,\u001b[0m \u001b[0;32mTrue\u001b[0m\u001b[0;34m,\u001b[0m \u001b[0mformat\u001b[0m\u001b[0;34m)\u001b[0m\u001b[0;34m\u001b[0m\u001b[0m\n\u001b[0m\u001b[1;32m    452\u001b[0m             \u001b[0mresult\u001b[0m \u001b[0;34m=\u001b[0m \u001b[0mSeries\u001b[0m\u001b[0;34m(\u001b[0m\u001b[0mvalues\u001b[0m\u001b[0;34m,\u001b[0m \u001b[0mindex\u001b[0m\u001b[0;34m=\u001b[0m\u001b[0marg\u001b[0m\u001b[0;34m.\u001b[0m\u001b[0mindex\u001b[0m\u001b[0;34m,\u001b[0m \u001b[0mname\u001b[0m\u001b[0;34m=\u001b[0m\u001b[0marg\u001b[0m\u001b[0;34m.\u001b[0m\u001b[0mname\u001b[0m\u001b[0;34m)\u001b[0m\u001b[0;34m\u001b[0m\u001b[0m\n\u001b[1;32m    453\u001b[0m     \u001b[0;32melif\u001b[0m \u001b[0misinstance\u001b[0m\u001b[0;34m(\u001b[0m\u001b[0marg\u001b[0m\u001b[0;34m,\u001b[0m \u001b[0;34m(\u001b[0m\u001b[0mABCDataFrame\u001b[0m\u001b[0;34m,\u001b[0m \u001b[0mMutableMapping\u001b[0m\u001b[0;34m)\u001b[0m\u001b[0;34m)\u001b[0m\u001b[0;34m:\u001b[0m\u001b[0;34m\u001b[0m\u001b[0m\n",
      "\u001b[0;32m~/anaconda3/lib/python3.6/site-packages/pandas/core/tools/datetimes.py\u001b[0m in \u001b[0;36m_convert_listlike\u001b[0;34m(arg, box, format, name, tz)\u001b[0m\n\u001b[1;32m    378\u001b[0m                 \u001b[0;32mreturn\u001b[0m \u001b[0mDatetimeIndex\u001b[0m\u001b[0;34m.\u001b[0m\u001b[0m_simple_new\u001b[0m\u001b[0;34m(\u001b[0m\u001b[0mvalues\u001b[0m\u001b[0;34m,\u001b[0m \u001b[0mname\u001b[0m\u001b[0;34m=\u001b[0m\u001b[0mname\u001b[0m\u001b[0;34m,\u001b[0m \u001b[0mtz\u001b[0m\u001b[0;34m=\u001b[0m\u001b[0mtz\u001b[0m\u001b[0;34m)\u001b[0m\u001b[0;34m\u001b[0m\u001b[0m\n\u001b[1;32m    379\u001b[0m             \u001b[0;32mexcept\u001b[0m \u001b[0;34m(\u001b[0m\u001b[0mValueError\u001b[0m\u001b[0;34m,\u001b[0m \u001b[0mTypeError\u001b[0m\u001b[0;34m)\u001b[0m\u001b[0;34m:\u001b[0m\u001b[0;34m\u001b[0m\u001b[0m\n\u001b[0;32m--> 380\u001b[0;31m                 \u001b[0;32mraise\u001b[0m \u001b[0me\u001b[0m\u001b[0;34m\u001b[0m\u001b[0m\n\u001b[0m\u001b[1;32m    381\u001b[0m \u001b[0;34m\u001b[0m\u001b[0m\n\u001b[1;32m    382\u001b[0m     \u001b[0;32mif\u001b[0m \u001b[0marg\u001b[0m \u001b[0;32mis\u001b[0m \u001b[0;32mNone\u001b[0m\u001b[0;34m:\u001b[0m\u001b[0;34m\u001b[0m\u001b[0m\n",
      "\u001b[0;32m~/anaconda3/lib/python3.6/site-packages/pandas/core/tools/datetimes.py\u001b[0m in \u001b[0;36m_convert_listlike\u001b[0;34m(arg, box, format, name, tz)\u001b[0m\n\u001b[1;32m    345\u001b[0m                     \u001b[0;32mtry\u001b[0m\u001b[0;34m:\u001b[0m\u001b[0;34m\u001b[0m\u001b[0m\n\u001b[1;32m    346\u001b[0m                         result = array_strptime(arg, format, exact=exact,\n\u001b[0;32m--> 347\u001b[0;31m                                                 errors=errors)\n\u001b[0m\u001b[1;32m    348\u001b[0m                     \u001b[0;32mexcept\u001b[0m \u001b[0mtslib\u001b[0m\u001b[0;34m.\u001b[0m\u001b[0mOutOfBoundsDatetime\u001b[0m\u001b[0;34m:\u001b[0m\u001b[0;34m\u001b[0m\u001b[0m\n\u001b[1;32m    349\u001b[0m                         \u001b[0;32mif\u001b[0m \u001b[0merrors\u001b[0m \u001b[0;34m==\u001b[0m \u001b[0;34m'raise'\u001b[0m\u001b[0;34m:\u001b[0m\u001b[0;34m\u001b[0m\u001b[0m\n",
      "\u001b[0;32mpandas/_libs/tslibs/strptime.pyx\u001b[0m in \u001b[0;36mpandas._libs.tslibs.strptime.array_strptime\u001b[0;34m()\u001b[0m\n",
      "\u001b[0;31mValueError\u001b[0m: time data '2008-10-07 12:39:00' does not match format '%m/%d/%Y %I:%M:%S %p' (match)"
     ]
    }
   ],
   "source": [
    "starting_df['Date'] = pd.to_datetime(starting_df['Date'], format='%m/%d/%Y %I:%M:%S %p')"
   ]
  },
  {
   "cell_type": "code",
   "execution_count": null,
   "metadata": {},
   "outputs": [],
   "source": [
    "starting_df['Date'].describe()"
   ]
  },
  {
   "cell_type": "code",
   "execution_count": null,
   "metadata": {},
   "outputs": [],
   "source": [
    "starting_df.head()"
   ]
  },
  {
   "cell_type": "markdown",
   "metadata": {},
   "source": [
    "### Difference between district, ward, community area and beat and why I chose to use beats.\n",
    "#### A ward is always a legally defined political subdivision. A district may be legally defined,and in this case it is. Community areas are a bit more archaic and were set by social scientists to track demographic changes, this unfortunately has not evolved with the growth and change of the city.  \n",
    "#### The item that makes the most sense for this is the \"beat\" which is a small block/ neigborhood or section of town that has a dedicated police man assigned to it. This of this as the police box from England, Japan, or SK"
   ]
  },
  {
   "cell_type": "code",
   "execution_count": null,
   "metadata": {},
   "outputs": [],
   "source": [
    "starting_df['Block'].describe()"
   ]
  },
  {
   "cell_type": "markdown",
   "metadata": {},
   "source": [
    "### 1b. Dropping columns with no discernable effect on the stats or that have been picked over for a more preferential label( in this case: ward,District, Unnamed: 0,\tID,\tCase Number,FBI Code,Updated On,Latitude,Longitude,X Coordinate,Y Coordinate,IUCR)"
   ]
  },
  {
   "cell_type": "markdown",
   "metadata": {},
   "source": [
    "### 1c. Size and demonsionality"
   ]
  },
  {
   "cell_type": "code",
   "execution_count": null,
   "metadata": {},
   "outputs": [],
   "source": [
    "#total number of rows\n",
    "print('The total number of rows is {}, and the total number of columns is {}, for a total number of datapoints being {}'.format(len(starting_df),len(starting_df.columns),len(starting_df)*len(starting_df.columns)))"
   ]
  },
  {
   "cell_type": "markdown",
   "metadata": {},
   "source": [
    "### 1c. Checking for NaN values"
   ]
  },
  {
   "cell_type": "code",
   "execution_count": null,
   "metadata": {},
   "outputs": [],
   "source": [
    "# By columns\n",
    "for column in starting_df.columns:\n",
    "    if any(pd.isna(starting_df[column])):\n",
    "        print('NA values are in the columns {}. the count is{}'.format(column,pd.isna(starting_df[column]).value_counts()))\n",
    "    \n",
    "#Luckily all of that data that I would be using for this set of stats do not use these ( I was originally going to use the location, but ti turns out that police men in this city do not alway but this at the reports so there are numvrous missing values)"
   ]
  },
  {
   "cell_type": "code",
   "execution_count": null,
   "metadata": {},
   "outputs": [],
   "source": [
    "starting_df=starting_df.drop(['Case Number','Longitude','Y Coordinate','X Coordinate','Ward','District','Case Number','FBI Code','Unnamed: 0','IUCR','Community Area','Updated On','Updated On','ID','Latitude'], axis=1)"
   ]
  },
  {
   "cell_type": "code",
   "execution_count": null,
   "metadata": {},
   "outputs": [],
   "source": [
    "starting_df['Year']=starting_df['Year'].astype(int)"
   ]
  },
  {
   "cell_type": "code",
   "execution_count": null,
   "metadata": {},
   "outputs": [],
   "source": [
    "starting_df.head()"
   ]
  },
  {
   "cell_type": "code",
   "execution_count": null,
   "metadata": {},
   "outputs": [],
   "source": [
    "# starting_df.to_csv('CleanedCrimes.csv')"
   ]
  }
 ],
 "metadata": {
  "extensions": {
   "jupyter_dashboards": {
    "activeView": "grid_default",
    "version": 1,
    "views": {
     "grid_default": {
      "cellMargin": 10,
      "defaultCellHeight": 20,
      "maxColumns": 12,
      "name": "grid",
      "type": "grid"
     },
     "report_default": {
      "name": "report",
      "type": "report"
     }
    }
   }
  },
  "kernelspec": {
   "display_name": "Python 3",
   "language": "python",
   "name": "python3"
  },
  "language_info": {
   "codemirror_mode": {
    "name": "ipython",
    "version": 3
   },
   "file_extension": ".py",
   "mimetype": "text/x-python",
   "name": "python",
   "nbconvert_exporter": "python",
   "pygments_lexer": "ipython3",
   "version": "3.6.5"
  }
 },
 "nbformat": 4,
 "nbformat_minor": 2
}
